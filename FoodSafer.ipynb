{
 "cells": [
  {
   "cell_type": "code",
   "execution_count": 108,
   "id": "70825a51",
   "metadata": {},
   "outputs": [],
   "source": [
    "#Importo le librerie necessarie \n",
    "\n",
    "import pandas as pd\n",
    "import matplotlib.pyplot as plt\n",
    "import seaborn as sns\n",
    "from sklearn.cluster import KMeans\n",
    "from sklearn.preprocessing import StandardScaler\n",
    "\n",
    "#Carico il dataset corretto"
   ]
  },
  {
   "cell_type": "code",
   "execution_count": 109,
   "id": "ece2224f",
   "metadata": {},
   "outputs": [],
   "source": [
    "#Percorso file\n",
    "\n",
    "percorso_del_file = \"/Users/rossanotesi/Desktop/Prova_finale_Star2Impact/Dataset/Dataset_progetto_finale.csv\"\n",
    "dataset = pd.read_csv('/Users/rossanotesi/Desktop/Prova_finale_Star2Impact/Dataset/Dataset_progetto_finale.csv')\n",
    "\n",
    "#Il dataset è memorizzato nella variabile 'dataset' e lo \"read\"\n"
   ]
  },
  {
   "cell_type": "code",
   "execution_count": 110,
   "id": "84512c21",
   "metadata": {},
   "outputs": [
    {
     "data": {
      "text/html": [
       "<div>\n",
       "<style scoped>\n",
       "    .dataframe tbody tr th:only-of-type {\n",
       "        vertical-align: middle;\n",
       "    }\n",
       "\n",
       "    .dataframe tbody tr th {\n",
       "        vertical-align: top;\n",
       "    }\n",
       "\n",
       "    .dataframe thead th {\n",
       "        text-align: right;\n",
       "    }\n",
       "</style>\n",
       "<table border=\"1\" class=\"dataframe\">\n",
       "  <thead>\n",
       "    <tr style=\"text-align: right;\">\n",
       "      <th></th>\n",
       "      <th>cooking_date</th>\n",
       "      <th>user_uuid</th>\n",
       "      <th>category</th>\n",
       "      <th>chef_id</th>\n",
       "      <th>language</th>\n",
       "      <th>level</th>\n",
       "      <th>challenge_id</th>\n",
       "      <th>country</th>\n",
       "      <th>subscription_date</th>\n",
       "      <th>platform</th>\n",
       "      <th>recipe_id</th>\n",
       "      <th>stars</th>\n",
       "    </tr>\n",
       "  </thead>\n",
       "  <tbody>\n",
       "    <tr>\n",
       "      <th>0</th>\n",
       "      <td>4-2-2023</td>\n",
       "      <td>82</td>\n",
       "      <td>smoothie</td>\n",
       "      <td>109</td>\n",
       "      <td>fr</td>\n",
       "      <td>intermediate</td>\n",
       "      <td>1</td>\n",
       "      <td>fr</td>\n",
       "      <td>21-1-2022</td>\n",
       "      <td>pc</td>\n",
       "      <td>1251</td>\n",
       "      <td>1</td>\n",
       "    </tr>\n",
       "    <tr>\n",
       "      <th>1</th>\n",
       "      <td>22-6-2023</td>\n",
       "      <td>123</td>\n",
       "      <td>ethnic</td>\n",
       "      <td>122</td>\n",
       "      <td>fr</td>\n",
       "      <td>advanced</td>\n",
       "      <td>3</td>\n",
       "      <td>fr</td>\n",
       "      <td>19-9-2021</td>\n",
       "      <td>mobile</td>\n",
       "      <td>6347</td>\n",
       "      <td>1</td>\n",
       "    </tr>\n",
       "    <tr>\n",
       "      <th>2</th>\n",
       "      <td>8-10-2021</td>\n",
       "      <td>186</td>\n",
       "      <td>smoothie</td>\n",
       "      <td>105</td>\n",
       "      <td>fr</td>\n",
       "      <td>basic</td>\n",
       "      <td>0</td>\n",
       "      <td>fr</td>\n",
       "      <td>12-8-2020</td>\n",
       "      <td>tv</td>\n",
       "      <td>1152</td>\n",
       "      <td>5</td>\n",
       "    </tr>\n",
       "    <tr>\n",
       "      <th>3</th>\n",
       "      <td>4-3-2021</td>\n",
       "      <td>202</td>\n",
       "      <td>ethnic</td>\n",
       "      <td>118</td>\n",
       "      <td>fr</td>\n",
       "      <td>basic</td>\n",
       "      <td>3</td>\n",
       "      <td>fr</td>\n",
       "      <td>4-2-2020</td>\n",
       "      <td>tv</td>\n",
       "      <td>6140</td>\n",
       "      <td>2</td>\n",
       "    </tr>\n",
       "    <tr>\n",
       "      <th>4</th>\n",
       "      <td>18-1-2022</td>\n",
       "      <td>216</td>\n",
       "      <td>lunch</td>\n",
       "      <td>103</td>\n",
       "      <td>en</td>\n",
       "      <td>intermediate</td>\n",
       "      <td>1</td>\n",
       "      <td>uk</td>\n",
       "      <td>8-10-2021</td>\n",
       "      <td>pc</td>\n",
       "      <td>6248</td>\n",
       "      <td>1</td>\n",
       "    </tr>\n",
       "  </tbody>\n",
       "</table>\n",
       "</div>"
      ],
      "text/plain": [
       "  cooking_date  user_uuid  category  chef_id language         level  \\\n",
       "0     4-2-2023         82  smoothie      109       fr  intermediate   \n",
       "1    22-6-2023        123    ethnic      122       fr      advanced   \n",
       "2    8-10-2021        186  smoothie      105       fr         basic   \n",
       "3     4-3-2021        202    ethnic      118       fr         basic   \n",
       "4    18-1-2022        216     lunch      103       en  intermediate   \n",
       "\n",
       "   challenge_id country subscription_date platform  recipe_id  stars  \n",
       "0             1      fr         21-1-2022       pc       1251      1  \n",
       "1             3      fr         19-9-2021   mobile       6347      1  \n",
       "2             0      fr         12-8-2020       tv       1152      5  \n",
       "3             3      fr          4-2-2020       tv       6140      2  \n",
       "4             1      uk         8-10-2021       pc       6248      1  "
      ]
     },
     "execution_count": 110,
     "metadata": {},
     "output_type": "execute_result"
    }
   ],
   "source": [
    "#Osservo i primi valori in testa \n",
    "\n",
    "dataset.head()"
   ]
  },
  {
   "cell_type": "code",
   "execution_count": 111,
   "id": "a75265b8",
   "metadata": {},
   "outputs": [
    {
     "name": "stdout",
     "output_type": "stream",
     "text": [
      "<class 'pandas.core.frame.DataFrame'>\n",
      "RangeIndex: 999 entries, 0 to 998\n",
      "Data columns (total 12 columns):\n",
      " #   Column             Non-Null Count  Dtype \n",
      "---  ------             --------------  ----- \n",
      " 0   cooking_date       999 non-null    object\n",
      " 1   user_uuid          999 non-null    int64 \n",
      " 2   category           999 non-null    object\n",
      " 3   chef_id            999 non-null    int64 \n",
      " 4   language           999 non-null    object\n",
      " 5   level              999 non-null    object\n",
      " 6   challenge_id       999 non-null    int64 \n",
      " 7   country            999 non-null    object\n",
      " 8   subscription_date  999 non-null    object\n",
      " 9   platform           999 non-null    object\n",
      " 10  recipe_id          999 non-null    int64 \n",
      " 11  stars              999 non-null    int64 \n",
      "dtypes: int64(5), object(7)\n",
      "memory usage: 93.8+ KB\n"
     ]
    }
   ],
   "source": [
    "#Ci sono molti valori nulli? Cerchiamoli! \n",
    "\n",
    "dataset.info()"
   ]
  },
  {
   "cell_type": "code",
   "execution_count": 152,
   "id": "54a934e6",
   "metadata": {
    "scrolled": true
   },
   "outputs": [
    {
     "name": "stdout",
     "output_type": "stream",
     "text": [
      "Numero di categorie: 7, Categorie: smoothie, ethnic, lunch, breakfast, snack, dinner, vegan\n",
      " \n",
      "Numero di chef_id univoci: 23\n",
      " \n",
      "Numero di user_uuid univoci: 242\n",
      " \n",
      "Numero di paesi univoci: 3, Paesi: fr, uk, it\n",
      " \n",
      "Numero di piattaforme univoche: 3, Piattaforme: pc, mobile, tv\n"
     ]
    }
   ],
   "source": [
    "#Conto i valori univoci per categoria\n",
    "\n",
    "num_category = dataset['category'].nunique()\n",
    "num_chef_id = dataset['chef_id'].nunique()\n",
    "num_user_uuid = dataset['user_uuid'].nunique()\n",
    "num_country = dataset['country'].nunique()\n",
    "num_platform = dataset['platform'].nunique()\n",
    "\n",
    "print(f\"Numero di categorie: {len(dataset['category'].unique())}, Categorie: {', '.join(dataset['category'].unique())}\")\n",
    "print(\" \")\n",
    "print(f\"Numero di chef_id univoci: {num_chef_id}\")\n",
    "print(\" \")\n",
    "print(f\"Numero di user_uuid univoci: {num_user_uuid}\")\n",
    "print(\" \")\n",
    "print(f\"Numero di paesi univoci: {len(dataset['country'].unique())}, Paesi: {', '.join(dataset['country'].unique())}\")\n",
    "print(\" \")\n",
    "print(f\"Numero di piattaforme univoche: {len(dataset['platform'].unique())}, Piattaforme: {', '.join(dataset['platform'].unique())}\")\n"
   ]
  },
  {
   "cell_type": "code",
   "execution_count": null,
   "id": "0a4d1d90",
   "metadata": {},
   "outputs": [],
   "source": [
    "#Inizio a studiare le tipologie di CHEF prima e USER dopo"
   ]
  },
  {
   "cell_type": "code",
   "execution_count": 27,
   "id": "1397cba8",
   "metadata": {},
   "outputs": [
    {
     "name": "stdout",
     "output_type": "stream",
     "text": [
      "Top 5 chef_id più partecipativi:\n",
      "chef_id\n",
      "105    59\n",
      "114    52\n",
      "118    50\n",
      "100    48\n",
      "108    48\n",
      "Name: count, dtype: int64\n"
     ]
    }
   ],
   "source": [
    "#Gli Chef più attivi (top 5)\n",
    "\n",
    "top_chef_ids = dataset['chef_id'].value_counts().head(5)\n",
    "\n",
    "print(\"Top 5 chef_id più partecipativi:\")\n",
    "print(top_chef_ids)"
   ]
  },
  {
   "cell_type": "code",
   "execution_count": 28,
   "id": "35a1e85c",
   "metadata": {
    "scrolled": true
   },
   "outputs": [
    {
     "name": "stdout",
     "output_type": "stream",
     "text": [
      "Percentuale di Category per i cinque chef_id:\n",
      "category\n",
      "ethnic       37.743191\n",
      "lunch        17.898833\n",
      "breakfast    14.785992\n",
      "smoothie      8.171206\n",
      "dinner        8.171206\n",
      "snack         7.392996\n",
      "vegan         5.836576\n",
      "Name: proportion, dtype: float64\n",
      "\n",
      "Percentuale di Level per i cinque chef_id:\n",
      "level\n",
      "advanced        51.361868\n",
      "basic           31.906615\n",
      "intermediate    16.731518\n",
      "Name: proportion, dtype: float64\n",
      "\n",
      "Percentuale di Stars per i cinque chef_id:\n",
      "stars\n",
      "5    22.568093\n",
      "4    22.568093\n",
      "2    21.400778\n",
      "3    17.120623\n",
      "1    16.342412\n",
      "Name: proportion, dtype: float64\n"
     ]
    }
   ],
   "source": [
    "#Indago sulla tipologia ricette  dei top5 Chef\n",
    "\n",
    "#Filtro per i top 5\n",
    "chef_ids_selezionati = [105, 114, 118, 100, 108]\n",
    "dataset_chef_selezionati = dataset[dataset['chef_id'].isin(chef_ids_selezionati)]\n",
    "\n",
    "#Calcolo la percentuale di Category, level e stars per i cinque chef_id\n",
    "percentuali_category = dataset_chef_selezionati['category'].value_counts(normalize=True) * 100\n",
    "percentuali_level = dataset_chef_selezionati['level'].value_counts(normalize=True) * 100\n",
    "percentuali_stars = dataset_chef_selezionati['stars'].value_counts(normalize=True) * 100\n",
    "\n",
    "print(\"Percentuale di Category per i cinque chef_id:\")\n",
    "print(percentuali_category)\n",
    "\n",
    "print(\"\\nPercentuale di Level per i cinque chef_id:\")\n",
    "print(percentuali_level)\n",
    "\n",
    "print(\"\\nPercentuale di Stars per i cinque chef_id:\")\n",
    "print(percentuali_stars)"
   ]
  },
  {
   "cell_type": "code",
   "execution_count": null,
   "id": "fa6394cf",
   "metadata": {},
   "outputs": [],
   "source": [
    "#Nella Top 5 vediamo che il trend è di proporre ricette avanzate, principalmente etniche e con una valutazione alta"
   ]
  },
  {
   "cell_type": "code",
   "execution_count": 31,
   "id": "646eb77c",
   "metadata": {},
   "outputs": [
    {
     "name": "stdout",
     "output_type": "stream",
     "text": [
      "Percentuale di Category per tutti gli chef_id:\n",
      "category\n",
      "ethnic       34.934935\n",
      "breakfast    17.117117\n",
      "lunch        14.614615\n",
      "dinner       10.910911\n",
      "snack         7.707708\n",
      "vegan         7.507508\n",
      "smoothie      7.207207\n",
      "Name: proportion, dtype: float64\n",
      "\n",
      "Percentuale di Level per tutti gli chef_id:\n",
      "level\n",
      "advanced        45.045045\n",
      "basic           34.834835\n",
      "intermediate    20.120120\n",
      "Name: proportion, dtype: float64\n",
      "\n",
      "Percentuale di Stars per tutti gli chef_id:\n",
      "stars\n",
      "5    23.823824\n",
      "4    19.619620\n",
      "2    19.119119\n",
      "3    19.019019\n",
      "1    18.418418\n",
      "Name: proportion, dtype: float64\n"
     ]
    }
   ],
   "source": [
    "# Calcola la percentuale di Category, level e stars per tutti gli chef_id\n",
    "\n",
    "percentuali_category = dataset['category'].value_counts(normalize=True) * 100\n",
    "percentuali_level = dataset['level'].value_counts(normalize=True) * 100\n",
    "percentuali_stars = dataset['stars'].value_counts(normalize=True) * 100\n",
    "\n",
    "print(\"Percentuale di Category per tutti gli chef_id:\")\n",
    "print(percentuali_category)\n",
    "\n",
    "print(\"\\nPercentuale di Level per tutti gli chef_id:\")\n",
    "print(percentuali_level)\n",
    "\n",
    "print(\"\\nPercentuale di Stars per tutti gli chef_id:\")\n",
    "print(percentuali_stars)"
   ]
  },
  {
   "cell_type": "code",
   "execution_count": 33,
   "id": "71c85100",
   "metadata": {},
   "outputs": [],
   "source": [
    "#Notiamo che le ricette dei Top5 sono incentrate su Etnico-Avanzato con Media 5 stelle circa 22%.\n",
    "#Se ricerchiamo in generale vediamo sempre una tendenza positiva dell'etnico che perde punti a favore del breakfast,\n",
    "#così come le ricette avanzate che perdono punti in favore delle intermedie e semplici."
   ]
  },
  {
   "cell_type": "code",
   "execution_count": 138,
   "id": "440affd1",
   "metadata": {
    "scrolled": false
   },
   "outputs": [
    {
     "name": "stdout",
     "output_type": "stream",
     "text": [
      "Lingua più frequente tra i top chef: it\n",
      "Paese più frequente tra i top chef: it\n",
      "Livello più frequente tra i top chef: advanced\n",
      "Media stelle per i top chef: 3.1361867704280155\n"
     ]
    }
   ],
   "source": [
    "#INDAGO SULLA PERSONAS \"CHEF\" TOP\n",
    "\n",
    "top_chefs = [105, 114, 118, 100, 108]\n",
    "df_top_chefs = dataset[dataset['chef_id'].isin(top_chefs)]\n",
    "\n",
    "#Lingua più frequente\n",
    "\n",
    "most_frequent_language = df_top_chefs['language'].mode().iloc[0]\n",
    "\n",
    "#Paese più frequente\n",
    "\n",
    "most_frequent_country = df_top_chefs['country'].mode().iloc[0]\n",
    "most_frequent_level = df_top_chefs['level'].mode().iloc[0]\n",
    "\n",
    "print(\"Lingua più frequente tra i top chef:\", most_frequent_language)\n",
    "print(\"Paese più frequente tra i top chef:\", most_frequent_country)\n",
    "print(\"Livello più frequente tra i top chef:\", most_frequent_level)\n",
    "\n",
    "\n",
    "avg_stars_top_chefs = df_top_chefs['stars'].mean()\n",
    "print(\"Media stelle per i top chef:\", avg_stars_top_chefs)\n",
    "\n"
   ]
  },
  {
   "cell_type": "code",
   "execution_count": null,
   "id": "084d2836",
   "metadata": {},
   "outputs": [],
   "source": [
    "#Abbiamo completato un possibile profiloi di Chef"
   ]
  },
  {
   "cell_type": "code",
   "execution_count": 36,
   "id": "45586cb5",
   "metadata": {},
   "outputs": [
    {
     "name": "stdout",
     "output_type": "stream",
     "text": [
      "Top 10 User_id più assidui:\n",
      "Index([154, 12, 124, 115, 216, 188, 67, 171, 137, 243], dtype='int64', name='user_uuid')\n",
      "\n",
      "Percentuale di Category per i 10 user_id più assidui:\n",
      "category\n",
      "ethnic       36.956522\n",
      "breakfast    20.652174\n",
      "lunch        16.304348\n",
      "dinner        8.695652\n",
      "smoothie      6.521739\n",
      "vegan         6.521739\n",
      "snack         4.347826\n",
      "Name: proportion, dtype: float64\n",
      "\n",
      "Percentuale di Level per i 10 user_id più assidui:\n",
      "level\n",
      "advanced        40.217391\n",
      "basic           31.521739\n",
      "intermediate    28.260870\n",
      "Name: proportion, dtype: float64\n",
      "\n",
      "Percentuale di Stars per i 10 user_id più assidui:\n",
      "stars\n",
      "5    26.086957\n",
      "1    25.000000\n",
      "4    17.391304\n",
      "3    16.304348\n",
      "2    15.217391\n",
      "Name: proportion, dtype: float64\n"
     ]
    }
   ],
   "source": [
    "#10 user_id più assidui\n",
    "\n",
    "top_user_ids = dataset['user_uuid'].value_counts().head(10).index\n",
    "dataset_top_users = dataset[dataset['user_uuid'].isin(top_user_ids)]\n",
    "\n",
    "#Percentuale di Category, Level e Stars\n",
    "\n",
    "percentuali_category = dataset_top_users['category'].value_counts(normalize=True) * 100\n",
    "percentuali_level = dataset_top_users['level'].value_counts(normalize=True) * 100\n",
    "percentuali_stars = dataset_top_users['stars'].value_counts(normalize=True) * 100\n",
    "\n",
    "print(\"Top 10 User_id più assidui:\")\n",
    "print(top_user_ids)\n",
    "\n",
    "print(\"\\nPercentuale di Category per i 10 user_id più assidui:\")\n",
    "print(percentuali_category)\n",
    "\n",
    "print(\"\\nPercentuale di Level per i 10 user_id più assidui:\")\n",
    "print(percentuali_level)\n",
    "\n",
    "print(\"\\nPercentuale di Stars per i 10 user_id più assidui:\")\n",
    "print(percentuali_stars)"
   ]
  },
  {
   "cell_type": "code",
   "execution_count": 37,
   "id": "3700431d",
   "metadata": {},
   "outputs": [],
   "source": [
    "#E' interessante vedere come il 37 % degli utenti si cimenta in ricette etniche."
   ]
  },
  {
   "cell_type": "code",
   "execution_count": 55,
   "id": "6ab78fe2",
   "metadata": {},
   "outputs": [
    {
     "data": {
      "image/png": "[encoded data removed]",
      "text/plain": [
       "<Figure size 1800x600 with 2 Axes>"
      ]
     },
     "metadata": {},
     "output_type": "display_data"
    }
   ],
   "source": [
    "#Utenti univoci\n",
    "\n",
    "utenti_univoci = dataset.drop_duplicates(subset='user_uuid')\n",
    "\n",
    "totali_language = utenti_univoci['language'].value_counts()\n",
    "totali_country = utenti_univoci['country'].value_counts()\n",
    "\n",
    "#Grafici language, country e platform\n",
    "\n",
    "plt.figure(figsize=(18, 6))\n",
    "\n",
    "#Language\n",
    "\n",
    "plt.subplot(1, 3, 1)\n",
    "totali_language.plot(kind='bar', color='skyblue')\n",
    "plt.title('Totali unici per Language')\n",
    "plt.xlabel('Language')\n",
    "plt.ylabel('Numero di Utenti')\n",
    "\n",
    "#Country\n",
    "\n",
    "plt.subplot(1, 3, 2)\n",
    "totali_country.plot(kind='bar', color='salmon')\n",
    "plt.title('Totali unici per Country')\n",
    "plt.xlabel('Country')\n",
    "plt.ylabel('Numero di Utenti')\n",
    "\n",
    "plt.tight_layout()\n",
    "plt.show()\n"
   ]
  },
  {
   "cell_type": "code",
   "execution_count": 53,
   "id": "234e911a",
   "metadata": {
    "scrolled": true
   },
   "outputs": [
    {
     "data": {
      "text/plain": [
       "Text(0, 0.5, 'Numero di Utenti')"
      ]
     },
     "execution_count": 53,
     "metadata": {},
     "output_type": "execute_result"
    },
    {
     "data": {
      "image/png": "[encoded data removed]",
      "text/plain": [
       "<Figure size 1400x600 with 1 Axes>"
      ]
     },
     "metadata": {},
     "output_type": "display_data"
    }
   ],
   "source": [
    "#Utenti per ciascun platform\n",
    "\n",
    "totali_paltform = dataset['platform'].value_counts()\n",
    "plt.figure(figsize=(14, 6))\n",
    "plt.subplot(1, 2, 1)\n",
    "totali_platform.plot(kind='bar', color='green')\n",
    "plt.title('Totali per Platform')\n",
    "plt.xlabel('Platform')\n",
    "plt.ylabel('Numero di Utenti')\n",
    "\n",
    "\n",
    "#Questo lo calcolo senza unicità user_uuid perchè un utente può collegarsi più volte da piattaforme differenti.\n"
   ]
  },
  {
   "cell_type": "code",
   "execution_count": 60,
   "id": "f3b9435c",
   "metadata": {},
   "outputs": [
    {
     "name": "stdout",
     "output_type": "stream",
     "text": [
      "Numero di utenti che si collegano da più di una piattaforma: 201\n"
     ]
    }
   ],
   "source": [
    "#Piattaforme uniche per ciascun utente\n",
    "\n",
    "conteggio_piattaforme_per_utente = dataset.groupby('user_uuid')['platform'].nunique()\n",
    "\n",
    "#Quanti utenti si collegano da più di una piattaforma\n",
    "utenti_con_piu_piattaforme = (conteggio_piattaforme_per_utente > 1).sum()\n",
    "\n",
    "print(f\"Numero di utenti che si collegano da più di una piattaforma: {utenti_con_piu_piattaforme}\")"
   ]
  },
  {
   "cell_type": "code",
   "execution_count": 61,
   "id": "b6b95fc9",
   "metadata": {
    "scrolled": true
   },
   "outputs": [
    {
     "name": "stdout",
     "output_type": "stream",
     "text": [
      "Percentuale di utenti che si collegano da una piattaforma: 16.94%\n",
      "Percentuale di utenti che si collegano da due piattaforme: 48.35%\n",
      "Percentuale di utenti che si collegano da tre piattaforme: 34.71%\n"
     ]
    }
   ],
   "source": [
    "#Numero di piattaforme uniche per ciascun utente\n",
    "conteggio_piattaforme_per_utente = dataset.groupby('user_uuid')['platform'].nunique()\n",
    "\n",
    "#Percentuali di utenti che si collegano da una, due o tre piattaforme\n",
    "percentuale_una_piattaforma = (conteggio_piattaforme_per_utente == 1).mean() * 100\n",
    "percentuale_due_piattaforme = (conteggio_piattaforme_per_utente == 2).mean() * 100\n",
    "percentuale_tre_piattaforme = (conteggio_piattaforme_per_utente == 3).mean() * 100\n",
    "\n",
    "print(f\"Percentuale di utenti che si collegano da una piattaforma: {percentuale_una_piattaforma:.2f}%\")\n",
    "print(f\"Percentuale di utenti che si collegano da due piattaforme: {percentuale_due_piattaforme:.2f}%\")\n",
    "print(f\"Percentuale di utenti che si collegano da tre piattaforme: {percentuale_tre_piattaforme:.2f}%\")"
   ]
  },
  {
   "cell_type": "code",
   "execution_count": 144,
   "id": "45d1c4f2",
   "metadata": {},
   "outputs": [
    {
     "name": "stdout",
     "output_type": "stream",
     "text": [
      "Lingua più frequente tra gli user_uuid con cibi 'ethnic advanced': it\n",
      "Paese più frequente tra gli user_uuid con cibi 'ethnic advanced': it\n",
      "Piattaforma più frequente tra gli user_uuid con cibi 'ethnic advanced': tv\n",
      "Media stelle tra gli user_uuid con cibi 'ethnic advanced': 3.2171052631578947\n"
     ]
    }
   ],
   "source": [
    "#PERSONAS \n",
    "\n",
    "#User che fanno cibi \"ethnic advanced\"\n",
    "df_ethnic_advanced_users = dataset[(dataset['level'] == 'advanced') & (dataset['category'] == 'ethnic')]\n",
    "\n",
    "#Lingua più frequente\n",
    "most_frequent_language_ethnic_advanced = df_ethnic_advanced_users['language'].mode().iloc[0]\n",
    "\n",
    "#Paese più frequente\n",
    "most_frequent_country_ethnic_advanced = df_ethnic_advanced_users['country'].mode().iloc[0]\n",
    "\n",
    "#Piattaforma più frequente\n",
    "most_frequent_platform_ethnic_advanced = df_ethnic_advanced_users['platform'].mode().iloc[0]\n",
    "\n",
    "#Media stelle\n",
    "avg_stars_ethnic_advanced_users = df_ethnic_advanced_users['stars'].mean()\n",
    "\n",
    "\n",
    "print(\"Lingua più frequente tra gli user_uuid con cibi 'ethnic advanced':\", most_frequent_language_ethnic_advanced)\n",
    "print(\"Paese più frequente tra gli user_uuid con cibi 'ethnic advanced':\", most_frequent_country_ethnic_advanced)\n",
    "print(\"Piattaforma più frequente tra gli user_uuid con cibi 'ethnic advanced':\", most_frequent_platform_ethnic_advanced)\n",
    "print(\"Media stelle tra gli user_uuid con cibi 'ethnic advanced':\", avg_stars_ethnic_advanced_users)\n"
   ]
  },
  {
   "cell_type": "code",
   "execution_count": 154,
   "id": "f03d1f39",
   "metadata": {},
   "outputs": [
    {
     "name": "stdout",
     "output_type": "stream",
     "text": [
      "Lingua più frequente: it\n",
      "Paese più frequente: it\n",
      "Piattaforma più frequente: mobile\n",
      "Media stelle: 2.6666666666666665\n"
     ]
    }
   ],
   "source": [
    "#PERSONAS TIPICA \"BASIC\"\n",
    "\n",
    "#User con livello \"basic\", categoria \"breakfast\" o \"lunch\" e che utilizzano almeno tre piattaforme\n",
    "\n",
    "df_basic_breakfast_lunch_users = dataset[(dataset['level'] == 'basic') & ((dataset['category'] == 'breakfast') | (dataset['category'] == 'lunch'))]\n",
    "df_at_least_three_platforms = df_basic_breakfast_lunch_users.groupby('user_uuid')['platform'].nunique() >= 3\n",
    "df_basic_breakfast_lunch_users = df_basic_breakfast_lunch_users[df_basic_breakfast_lunch_users['user_uuid'].isin(df_at_least_three_platforms[df_at_least_three_platforms].index)]\n",
    "\n",
    "#Lingua\n",
    "\n",
    "most_frequent_language_basic = df_basic_breakfast_lunch_users['language'].mode().iloc[0]\n",
    "\n",
    "#Paese\n",
    "\n",
    "most_frequent_country_basic = df_basic_breakfast_lunch_users['country'].mode().iloc[0]\n",
    "\n",
    "#Piattaforma\n",
    "\n",
    "most_frequent_platform_basic = df_basic_breakfast_lunch_users['platform'].mode().iloc[0]\n",
    "\n",
    "#Media stelle\n",
    "\n",
    "avg_stars_basic_users = df_basic_breakfast_lunch_users['stars'].mean()\n",
    "\n",
    "\n",
    "print(\"Lingua più frequente:\", most_frequent_language_basic)\n",
    "print(\"Paese più frequente:\", most_frequent_country_basic)\n",
    "print(\"Piattaforma più frequente:\", most_frequent_platform_basic)\n",
    "print(\"Media stelle:\", avg_stars_basic_users)\n"
   ]
  },
  {
   "cell_type": "code",
   "execution_count": 70,
   "id": "1b846b79",
   "metadata": {},
   "outputs": [
    {
     "data": {
      "image/png": "[encoded data removed]",
      "text/plain": [
       "<Figure size 1400x600 with 1 Axes>"
      ]
     },
     "metadata": {},
     "output_type": "display_data"
    }
   ],
   "source": [
    "#Converto le colonne di date in formato datetime\n",
    "\n",
    "dataset['subscription_date'] = pd.to_datetime(dataset['subscription_date'], format='%d-%m-%Y')\n",
    "\n",
    "#Raggruppo le date per mese\n",
    "\n",
    "dataset['subscription_month'] = dataset['subscription_date'].dt.to_period('M')\n",
    "\n",
    "#Subscription/mese\n",
    "\n",
    "plt.figure(figsize=(14, 6))\n",
    "sns.countplot(x=dataset['subscription_month'], palette='viridis')\n",
    "plt.title('Trend delle subscription_date (raggruppate per mese)')\n",
    "plt.xlabel('Mese di Iscrizione')\n",
    "plt.ylabel('Numero di Iscrizioni')\n",
    "plt.xticks(rotation=45)\n",
    "plt.show()"
   ]
  },
  {
   "cell_type": "code",
   "execution_count": 76,
   "id": "cbd12a03",
   "metadata": {
    "scrolled": true
   },
   "outputs": [
    {
     "data": {
      "image/png": "[encoded data removed]",
      "text/plain": [
       "<Figure size 1400x600 with 1 Axes>"
      ]
     },
     "metadata": {},
     "output_type": "display_data"
    }
   ],
   "source": [
    "#Converto le colonne di date in formato datetime \n",
    "\n",
    "dataset['cooking_date'] = pd.to_datetime(dataset['cooking_date'], format='%d-%m-%Y')\n",
    "\n",
    "#Raggruppo le date per mese\n",
    "\n",
    "dataset['cooking_month'] = dataset['cooking_date'].dt.to_period('M')\n",
    "\n",
    "#Ordino in base a 'cooking_month'\n",
    "\n",
    "dataset = dataset.sort_values('cooking_month')\n",
    "\n",
    "#Grafico\n",
    "\n",
    "plt.figure(figsize=(14, 6))\n",
    "sns.countplot(x=dataset['cooking_month'], palette='viridis')\n",
    "plt.title('Trend delle cooking_date (raggruppate per mese e anno)')\n",
    "plt.xlabel('Mese e Anno di Cottura')\n",
    "plt.ylabel('Numero di Pubblicazioni')\n",
    "plt.xticks(rotation=45)\n",
    "plt.show()"
   ]
  },
  {
   "cell_type": "code",
   "execution_count": null,
   "id": "e5135b16",
   "metadata": {},
   "outputs": [],
   "source": [
    "#Vediamo che il trend è positivo più ci avviciniamo al presente"
   ]
  },
  {
   "cell_type": "code",
   "execution_count": 77,
   "id": "35b22e3f",
   "metadata": {},
   "outputs": [
    {
     "data": {
      "image/png": "[encoded data removed]",
      "text/plain": [
       "<Figure size 1400x600 with 1 Axes>"
      ]
     },
     "metadata": {},
     "output_type": "display_data"
    }
   ],
   "source": [
    "#Differenza tra subscription_date e cooking_date per ciascun utente\n",
    "\n",
    "dataset['giorni_tra_iscrizione_e_cottura'] = (dataset['cooking_date'] - dataset['subscription_date']).dt.days\n",
    "\n",
    "#Raggruppo le date per mese/anno\n",
    "dataset['cooking_month_year'] = dataset['cooking_date'].dt.to_period('M').astype(str)\n",
    "dataset['anno-mese_cooking_leadtime'] = pd.to_datetime(dataset['cooking_month_year']).dt.to_period('M')\n",
    "dataset = dataset.sort_values('anno-mese_cooking_leadtime')\n",
    "\n",
    "#Grafico\n",
    "plt.figure(figsize=(14, 6))\n",
    "sns.barplot(x=dataset['anno-mese_cooking_leadtime'], y=dataset['giorni_tra_iscrizione_e_cottura'], palette='viridis')\n",
    "plt.title('Lead Time Medio di Pubblicazione (raggruppato per mese e anno)')\n",
    "plt.xlabel('Mese e Anno di Pubblicazione')\n",
    "plt.ylabel('Lead Time Medio (giorni)')\n",
    "plt.xticks(rotation=45)\n",
    "plt.show()"
   ]
  },
  {
   "cell_type": "code",
   "execution_count": 94,
   "id": "5289ba49",
   "metadata": {},
   "outputs": [
    {
     "data": {
      "image/png": "[encoded data removed]",
      "text/plain": [
       "<Figure size 1400x600 with 1 Axes>"
      ]
     },
     "metadata": {},
     "output_type": "display_data"
    }
   ],
   "source": [
    "#Differenza in giorni tra subscription_date e cooking_date per ciascun utente\n",
    "\n",
    "dataset['giorni_tra_iscrizione_e_preparazione'] = (dataset['cooking_date'] - dataset['subscription_date']).dt.days\n",
    "\n",
    "#Estraggo l'anno da 'cooking_date'\n",
    "\n",
    "dataset['anno_pubblicazione'] = dataset['cooking_date'].dt.year\n",
    "\n",
    "#Lead time medio per ogni anno\n",
    "\n",
    "leadtime_medio_per_anno = dataset.groupby('anno_pubblicazione')['giorni_tra_iscrizione_e_preparazione'].mean()\n",
    "\n",
    "#Grafico\n",
    "\n",
    "plt.figure(figsize=(14, 6))\n",
    "sns.barplot(x=leadtime_medio_per_anno.index, y=leadtime_medio_per_anno.values, palette='viridis')\n",
    "plt.title('Lead Time Medio di Pubblicazione per Anno')\n",
    "plt.xlabel('Anno di Pubblicazione')\n",
    "plt.ylabel('Lead Time Medio (giorni)')\n",
    "plt.xticks(rotation=45)\n",
    "plt.show()"
   ]
  },
  {
   "cell_type": "code",
   "execution_count": 89,
   "id": "fd7581fb",
   "metadata": {},
   "outputs": [
    {
     "name": "stdout",
     "output_type": "stream",
     "text": [
      "Percentuale di Ricette per Livello:\n",
      "level\n",
      "advanced        45.045045\n",
      "basic           34.834835\n",
      "intermediate    20.120120\n",
      "Name: count, dtype: float64\n"
     ]
    }
   ],
   "source": [
    "#Conteggio delle ricette per livello\n",
    "\n",
    "conteggio_ricette_perlivello = dataset['level'].value_counts()\n",
    "\n",
    "#Percentuale rispetto al totale \n",
    "\n",
    "percentuale_ricette_perlivello = (conteggio_ricette_perlivello / len(dataset)) * 100\n",
    "\n",
    "print(\"Percentuale di Ricette per Livello:\")\n",
    "print(percentuale_ricette_perlivello)\n"
   ]
  },
  {
   "cell_type": "code",
   "execution_count": 97,
   "id": "6df588c7",
   "metadata": {
    "scrolled": true
   },
   "outputs": [
    {
     "name": "stdout",
     "output_type": "stream",
     "text": [
      "Numero di tipi di challenge_id unici: 4\n",
      "\n",
      "Percentuali di partecipazione per ciascun tipo di challenge_id:\n",
      "challenge_id\n",
      "3    27.027027\n",
      "2    25.325325\n",
      "1    24.824825\n",
      "0    22.822823\n",
      "Name: proportion, dtype: float64\n"
     ]
    }
   ],
   "source": [
    "#Challenge_id unici ci sono nel dataset\n",
    "\n",
    "num_tipi_challenge = dataset['challenge_id'].nunique()\n",
    "print(f\"Numero di tipi di challenge_id unici: {num_tipi_challenge}\")\n",
    "\n",
    "#Percentuale di partecipazione per ciascun tipo di challenge_id\n",
    "percentuali_partecipazione = dataset['challenge_id'].value_counts(normalize=True) * 100\n",
    "print(\"\\nPercentuali di partecipazione per ciascun tipo di challenge_id:\")\n",
    "print(percentuali_partecipazione)\n"
   ]
  },
  {
   "cell_type": "code",
   "execution_count": 102,
   "id": "c3f844ba",
   "metadata": {},
   "outputs": [
    {
     "name": "stdout",
     "output_type": "stream",
     "text": [
      "\n",
      "Media delle valutazioni per ciascuna delle 4 tipologie di challenge_id:\n",
      "challenge_id\n",
      "0    3.144737\n",
      "1    2.983871\n",
      "2    3.256917\n",
      "3    3.070370\n",
      "Name: stars, dtype: float64\n"
     ]
    }
   ],
   "source": [
    "#Raggruppo per challenge_id e calcola la media delle valutazioni per ciascuna tipologia\n",
    "\n",
    "media_valutazioni_per_tipologia = dataset.groupby('challenge_id')['stars'].mean()\n",
    "tipologie_selezionate = [0, 1, 2, 3]\n",
    "media_valutazioni_tipologie_selezionate = media_valutazioni_per_tipologia[tipologie_selezionate]\n",
    "print(\"\\nMedia delle valutazioni per ciascuna delle 4 tipologie di challenge_id:\")\n",
    "print(media_valutazioni_tipologie_selezionate)\n",
    "\n"
   ]
  },
  {
   "cell_type": "code",
   "execution_count": 158,
   "id": "70b7f175",
   "metadata": {},
   "outputs": [
    {
     "name": "stdout",
     "output_type": "stream",
     "text": [
      "Risultati per la lingua 'it':\n",
      "Categoria più frequente: ethnic\n",
      "Voto medio: 3.1179138321995463\n",
      "\n",
      "Risultati per la lingua 'fr':\n",
      "Categoria più frequente: ethnic\n",
      "Voto medio: 3.0727272727272728\n",
      "\n",
      "Risultati per la lingua 'en':\n",
      "Categoria più frequente: ethnic\n",
      "Voto medio: 3.133136094674556\n"
     ]
    }
   ],
   "source": [
    "#Raggruppo il dataset per lingua e trovo la categoria più frequente\n",
    "grouped_data = dataset.groupby('language').agg({\n",
    "    'category': lambda x: x.mode().iloc[0],\n",
    "    'stars': 'mean'\n",
    "})\n",
    "\n",
    "print(\"Risultati per la lingua 'it':\")\n",
    "print(\"Categoria più frequente:\", grouped_data.loc['it', 'category'])\n",
    "print(\"Voto medio:\", grouped_data.loc['it', 'stars'])\n",
    "\n",
    "print(\"\\nRisultati per la lingua 'fr':\")\n",
    "print(\"Categoria più frequente:\", grouped_data.loc['fr', 'category'])\n",
    "print(\"Voto medio:\", grouped_data.loc['fr', 'stars'])\n",
    "\n",
    "print(\"\\nRisultati per la lingua 'en':\")\n",
    "print(\"Categoria più frequente:\", grouped_data.loc['en', 'category'])\n",
    "print(\"Voto medio:\", grouped_data.loc['en', 'stars'])\n"
   ]
  },
  {
   "cell_type": "code",
   "execution_count": 161,
   "id": "13a94b37",
   "metadata": {},
   "outputs": [
    {
     "name": "stdout",
     "output_type": "stream",
     "text": [
      "Risultati per la lingua 'it':\n",
      "Categoria più frequente: ethnic\n",
      "Voto medio: 4.541237113402062\n",
      "\n",
      "Risultati per la lingua 'fr':\n",
      "Categoria più frequente: ethnic\n",
      "Voto medio: 4.606741573033708\n",
      "\n",
      "Risultati per la lingua 'en':\n",
      "Categoria più frequente: ethnic\n",
      "Voto medio: 4.52317880794702\n"
     ]
    }
   ],
   "source": [
    "# Filtra il dataset per valutazioni > 3\n",
    "high_rated_dataset = dataset[dataset['stars'] > 3]\n",
    "\n",
    "# Raggruppa il nuovo dataset per lingua e calcola le categorie più frequenti e il voto medio\n",
    "grouped_high_rated_data = high_rated_dataset.groupby('language').agg({\n",
    "    'category': lambda x: x.mode().iloc[0] if not x.empty else None,\n",
    "    'stars': 'mean'\n",
    "})\n",
    "\n",
    "# Visualizza i risultati\n",
    "print(\"Risultati per la lingua 'it':\")\n",
    "print(\"Categoria più frequente:\", grouped_high_rated_data.loc['it', 'category'])\n",
    "print(\"Voto medio:\", grouped_high_rated_data.loc['it', 'stars'])\n",
    "\n",
    "print(\"\\nRisultati per la lingua 'fr':\")\n",
    "print(\"Categoria più frequente:\", grouped_high_rated_data.loc['fr', 'category'])\n",
    "print(\"Voto medio:\", grouped_high_rated_data.loc['fr', 'stars'])\n",
    "\n",
    "print(\"\\nRisultati per la lingua 'en':\")\n",
    "print(\"Categoria più frequente:\", grouped_high_rated_data.loc['en', 'category'])\n",
    "print(\"Voto medio:\", grouped_high_rated_data.loc['en', 'stars'])\n",
    "\n"
   ]
  },
  {
   "cell_type": "code",
   "execution_count": null,
   "id": "1b561e52",
   "metadata": {},
   "outputs": [],
   "source": []
  }
 ],
 "metadata": {
  "kernelspec": {
   "display_name": "Python 3 (ipykernel)",
   "language": "python",
   "name": "python3"
  },
  "language_info": {
   "codemirror_mode": {
    "name": "ipython",
    "version": 3
   },
   "file_extension": ".py",
   "mimetype": "text/x-python",
   "name": "python",
   "nbconvert_exporter": "python",
   "pygments_lexer": "ipython3",
   "version": "3.11.5"
  }
 },
 "nbformat": 4,
 "nbformat_minor": 5
}
